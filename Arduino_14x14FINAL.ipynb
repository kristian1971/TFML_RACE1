{
  "nbformat": 4,
  "nbformat_minor": 0,
  "metadata": {
    "colab": {
      "name": "Arduino_14x14FINAL.ipynb",
      "provenance": [],
      "collapsed_sections": []
    },
    "kernelspec": {
      "name": "python3",
      "display_name": "Python 3"
    }
  },
  "cells": [
    {
      "cell_type": "code",
      "metadata": {
        "id": "7U-tD1tTv-lH"
      },
      "source": [
        "!pip install tinymlgen"
      ],
      "execution_count": null,
      "outputs": []
    },
    {
      "cell_type": "code",
      "metadata": {
        "id": "iWmRHYG4vsc1"
      },
      "source": [
        "import math\r\n",
        "import numpy as np\r\n",
        "from sklearn.datasets import load_digits\r\n",
        "import tensorflow as tf\r\n",
        "from tensorflow.keras import layers\r\n",
        "from tinymlgen import port"
      ],
      "execution_count": null,
      "outputs": []
    },
    {
      "cell_type": "code",
      "metadata": {
        "id": "TyTzd3u7AOyO"
      },
      "source": [
        "from tensorflow.keras.datasets import mnist\r\n",
        "import cv2"
      ],
      "execution_count": null,
      "outputs": []
    },
    {
      "cell_type": "code",
      "metadata": {
        "id": "suWxYfAXvxos"
      },
      "source": [
        "np.random.seed(1337)\r\n",
        "(x_values, y_values), (x_test, y_test) = mnist.load_data()\r\n",
        "x_values = x_values / x_values.max()\r\n",
        "batch_tensor = tf.reshape(x_values, [60000, 28, 28, 1])\r\n",
        "resized_images = tf.image.resize(batch_tensor, [14,14])"
      ],
      "execution_count": null,
      "outputs": []
    },
    {
      "cell_type": "code",
      "metadata": {
        "id": "-7GXEHwFz12c"
      },
      "source": [
        "resized_images=resized_images.numpy()\r\n",
        "resized_images.max()"
      ],
      "execution_count": null,
      "outputs": []
    },
    {
      "cell_type": "code",
      "metadata": {
        "id": "PPli8k0eDVrb"
      },
      "source": [
        "TRAIN_SPLIT = int(0.6 * len(resized_images))\r\n",
        "TEST_SPLIT = int(0.2 * len(resized_images) + TRAIN_SPLIT)\r\n",
        "x_train, x_test, x_validate = np.split(resized_images, [TRAIN_SPLIT, TEST_SPLIT])\r\n",
        "y_train, y_test, y_validate = np.split(y_values, [TRAIN_SPLIT, TEST_SPLIT])"
      ],
      "execution_count": null,
      "outputs": []
    },
    {
      "cell_type": "code",
      "metadata": {
        "id": "rfij4NK7wQRi"
      },
      "source": [
        "model = tf.keras.Sequential()\r\n",
        "model.add(layers.Conv2D(4, (3, 3), activation='relu', padding='same', input_shape=(14, 14, 1)))\r\n",
        "model.add(layers.Flatten())\r\n",
        "model.add(layers.Dense(len(np.unique(y_train))))\r\n",
        "model.compile(optimizer='adam', loss=tf.keras.losses.SparseCategoricalCrossentropy(from_logits=True), metrics=['accuracy'])\r\n",
        "model.fit(x_train, y_train, epochs=12, batch_size=128, validation_data=(x_validate, y_validate))"
      ],
      "execution_count": null,
      "outputs": []
    },
    {
      "cell_type": "code",
      "metadata": {
        "id": "-ILxyewtwRuO"
      },
      "source": [
        "x_test = (x_test / x_test.max()).reshape((len(x_test), 14, 14, 1))\r\n",
        "y_pred = model.predict(x_test).argmax(axis=1)\r\n",
        "print('ACCURACY', (y_pred == y_test).sum() / len(y_test))"
      ],
      "execution_count": null,
      "outputs": []
    },
    {
      "cell_type": "code",
      "metadata": {
        "id": "oJ-0sQ91wXGn"
      },
      "source": [
        "c_code = port(model, optimize=False, variable_name='digits_model', pretty_print=True)\r\n",
        "print(c_code)"
      ],
      "execution_count": null,
      "outputs": []
    },
    {
      "cell_type": "code",
      "metadata": {
        "id": "aXd1sQDEI9Kj"
      },
      "source": [
        "from google.colab import files\r\n",
        "import os\r\n",
        "os.chdir('/content/sample_data/')\r\n",
        "open('output.h','w').write(c_code)"
      ],
      "execution_count": null,
      "outputs": []
    },
    {
      "cell_type": "code",
      "metadata": {
        "id": "OIiT-FypKhFT"
      },
      "source": [
        "model.save(\"mnist_ard.h5\")"
      ],
      "execution_count": null,
      "outputs": []
    },
    {
      "cell_type": "code",
      "metadata": {
        "id": "PBtDeh22tX1V"
      },
      "source": [
        "converter = tf.lite.TFLiteConverter.from_keras_model(model)\r\n",
        "tflite_model = converter.convert()"
      ],
      "execution_count": null,
      "outputs": []
    },
    {
      "cell_type": "code",
      "metadata": {
        "id": "FTA9i_hSte86"
      },
      "source": [
        "with open('model.tflite', 'wb') as f:\r\n",
        "  f.write(tflite_model)"
      ],
      "execution_count": null,
      "outputs": []
    }
  ]
}