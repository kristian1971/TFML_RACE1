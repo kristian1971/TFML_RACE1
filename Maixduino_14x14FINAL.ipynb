{
  "nbformat": 4,
  "nbformat_minor": 0,
  "metadata": {
    "colab": {
      "name": "Maixduino_14x14FINAL.ipynb",
      "provenance": [],
      "collapsed_sections": []
    },
    "kernelspec": {
      "name": "python3",
      "display_name": "Python 3"
    },
    "accelerator": "GPU"
  },
  "cells": [
    {
      "cell_type": "code",
      "metadata": {
        "id": "KNhZeX7nAP4d"
      },
      "source": [
        "!git clone https://github.com/sipeed/Maix_Toolbox\r\n",
        "!mkdir Maix_Toolbox/workspace\r\n",
        "!mkdir Maix_Toolbox/ncc\r\n",
        "%cd /content/Maix_Toolbox/ncc\r\n",
        "!wget https://github.com/kendryte/nncase/releases/download/v0.1.0-rc5/ncc-linux-x86_64.tar.xz\r\n",
        "!tar Jxf ncc-linux-x86_64.tar.xz\r\n",
        "%cd /content/Maix_Toolbox/workspace"
      ],
      "execution_count": null,
      "outputs": []
    },
    {
      "cell_type": "code",
      "metadata": {
        "id": "lBVjp9byeCjR"
      },
      "source": [
        "%tensorflow_version 1.x"
      ],
      "execution_count": null,
      "outputs": []
    },
    {
      "cell_type": "code",
      "metadata": {
        "id": "tCoJFAHHcX0D"
      },
      "source": [
        "from __future__ import print_function\r\n",
        "from tensorflow.keras.datasets import mnist\r\n",
        "from tensorflow.keras.models import Sequential\r\n",
        "from tensorflow.keras.layers import Dense, Dropout, Flatten, Conv2D\r\n",
        "from tensorflow.keras import backend as K\r\n",
        "import math\r\n",
        "import numpy as np\r\n",
        "import tensorflow as tf\r\n",
        "import keras\r\n",
        "from tensorflow.keras import layers\r\n",
        "\r\n",
        "np.random.seed(1337)\r\n",
        "(x_values, y_values), (x_test, y_test) = mnist.load_data()\r\n",
        "x_values = x_values / x_values.max()\r\n"
      ],
      "execution_count": null,
      "outputs": []
    },
    {
      "cell_type": "code",
      "metadata": {
        "id": "5DdTWvxEcmz4"
      },
      "source": [
        "x_values = x_values.reshape(x_values.shape[0], 28, 28, 1)\r\n",
        "x_values = tf.image.resize(x_values, [14,14])\r\n",
        "sess=tf.Session()\r\n",
        "with sess.as_default():\r\n",
        "    x_values = x_values.eval()\r\n",
        "x_values.max()"
      ],
      "execution_count": null,
      "outputs": []
    },
    {
      "cell_type": "code",
      "metadata": {
        "id": "W-LANCl4cqZ5"
      },
      "source": [
        "TRAIN_SPLIT = int(0.6 * len(x_values))\r\n",
        "TEST_SPLIT = int(0.2 * len(x_values) + TRAIN_SPLIT)\r\n",
        "x_train, x_test, x_validate = np.split(x_values, [TRAIN_SPLIT, TEST_SPLIT])\r\n",
        "y_train, y_test, y_validate = np.split(y_values, [TRAIN_SPLIT, TEST_SPLIT])"
      ],
      "execution_count": null,
      "outputs": []
    },
    {
      "cell_type": "code",
      "metadata": {
        "id": "3TYc9I3IXUss"
      },
      "source": [
        "model = tf.keras.Sequential()\r\n",
        "model.add(layers.Conv2D(4, (3, 3), activation='relu', padding='same', input_shape=(14, 14, 1)))\r\n",
        "model.add(layers.Flatten())\r\n",
        "model.add(layers.Dense(len(np.unique(y_train))))\r\n",
        "\r\n",
        "model.compile(optimizer='adam', loss=tf.keras.losses.SparseCategoricalCrossentropy(from_logits=True), metrics=['accuracy'])\r\n",
        "model.fit(x_train, y_train, epochs=12, batch_size=128, validation_data=(x_test, y_test))\r\n"
      ],
      "execution_count": null,
      "outputs": []
    },
    {
      "cell_type": "code",
      "metadata": {
        "id": "DRtTOxdSdVVe"
      },
      "source": [
        "x_test = (x_test / x_test.max()).reshape((len(x_test), 14, 14, 1))\r\n",
        "y_pred = model.predict(x_test).argmax(axis=1)\r\n",
        "\r\n",
        "print('ACCURACY', (y_pred == y_test).sum() / len(y_test))"
      ],
      "execution_count": null,
      "outputs": []
    },
    {
      "cell_type": "code",
      "metadata": {
        "colab": {
          "base_uri": "https://localhost:8080/"
        },
        "id": "w6tdZTAJDVzc",
        "outputId": "49318bd9-6c17-4105-ded6-a4db77f8aa27"
      },
      "source": [
        "%cd /content/Maix_Toolbox/\r\n",
        "!mkdir images\r\n",
        "import numpy as np\r\n",
        "import cv2\r\n",
        "batch_num=100\r\n",
        "batch = x_train[0:batch_num]\r\n",
        "imgs=batch.reshape((batch_num,14,14))*255\r\n",
        "imgs=imgs.astype(np.uint8)\r\n",
        "for i,img in enumerate(imgs):\r\n",
        "  cv2.imwrite(\"images/%03d.jpg\"%i, img)\r\n",
        "\r\n",
        "jsontext=\"\"\"\r\n",
        "{\r\n",
        "  \"version\": \"0.1.0\",\r\n",
        "  \"files\": [\r\n",
        "    {\r\n",
        "      \"address\": 0x00300000,\r\n",
        "      \"bin\": \"mnist.kmodel\",\r\n",
        "      \"sha256Prefix\": false\r\n",
        "    }\r\n",
        "  ]\r\n",
        "}\r\n",
        "\"\"\"\r\n",
        "with open(\"workspace/flash-list.json\",\"w\") as f:\r\n",
        "  f.write(jsontext)"
      ],
      "execution_count": null,
      "outputs": [
        {
          "output_type": "stream",
          "text": [
            "/content/Maix_Toolbox\n",
            "mkdir: cannot create directory ‘images’: File exists\n"
          ],
          "name": "stdout"
        }
      ]
    },
    {
      "cell_type": "code",
      "metadata": {
        "id": "PjGslIOrgf-F"
      },
      "source": [
        "%cd /content/Maix_Toolbox/workspace"
      ],
      "execution_count": null,
      "outputs": []
    },
    {
      "cell_type": "code",
      "metadata": {
        "id": "Lde3z44kf8AC"
      },
      "source": [
        "model.save(\"mnist.h5\")"
      ],
      "execution_count": null,
      "outputs": []
    },
    {
      "cell_type": "code",
      "metadata": {
        "id": "gpntVk7gDXR5"
      },
      "source": [
        "%cd /content/Maix_Toolbox/\r\n",
        "!tflite_convert  --output_file=/content/Maix_Toolbox/workspace/mnist.tflite --keras_model_file=/content/Maix_Toolbox/workspace/mnist.h5"
      ],
      "execution_count": null,
      "outputs": []
    },
    {
      "cell_type": "code",
      "metadata": {
        "id": "wXvBtDk9rphO"
      },
      "source": [
        "!./tflite2kmodel.sh workspace/mnist.tflite\r\n"
      ],
      "execution_count": null,
      "outputs": []
    },
    {
      "cell_type": "code",
      "metadata": {
        "id": "2KOhhPzDruyd"
      },
      "source": [
        "!./ncc/ncc -i tflite -o k210model --dataset /content/Maix_Toolbox/images /content/Maix_Toolbox/workspace/mnist.tflite /content/Maix_Toolbox/workspace/mnist.kmodel\r\n"
      ],
      "execution_count": null,
      "outputs": []
    },
    {
      "cell_type": "code",
      "metadata": {
        "id": "gh1f3DDbrwQ1"
      },
      "source": [
        "%cd /content/Maix_Toolbox/workspace\r\n"
      ],
      "execution_count": null,
      "outputs": []
    },
    {
      "cell_type": "code",
      "metadata": {
        "id": "7GhhCV-RryQ9"
      },
      "source": [
        "!zip -r mnist_at_0x300000.kfpkg mnist.kmodel flash-list.json"
      ],
      "execution_count": null,
      "outputs": []
    },
    {
      "cell_type": "code",
      "metadata": {
        "id": "vF3acWKEsZ7l"
      },
      "source": [
        "from google.colab import files\r\n",
        "files.download('mnist_at_0x300000.kfpkg')"
      ],
      "execution_count": null,
      "outputs": []
    },
    {
      "cell_type": "code",
      "metadata": {
        "id": "rQy48q34guvc"
      },
      "source": [
        "#from google.colab import files\r\n",
        "files.download('mnist.tflite')"
      ],
      "execution_count": null,
      "outputs": []
    },
    {
      "cell_type": "code",
      "metadata": {
        "id": "WNv3gp36hEs0"
      },
      "source": [
        "#from google.colab import files\r\n",
        "files.download('mnist.h5')"
      ],
      "execution_count": null,
      "outputs": []
    }
  ]
}